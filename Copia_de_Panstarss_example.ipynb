{
 "cells": [
  {
   "cell_type": "code",
   "execution_count": null,
   "metadata": {
    "colab": {
     "base_uri": "https://localhost:8080/"
    },
    "id": "buKA-_zqcpnn",
    "outputId": "80f6013e-26ff-4726-e02c-14a8ef649878",
    "scrolled": true
   },
   "outputs": [
    {
     "name": "stdout",
     "output_type": "stream",
     "text": [
      "Requirement already satisfied: gatspy in /usr/local/lib/python3.7/dist-packages (0.3)\n",
      "Collecting astroML\n",
      "  Downloading astroML-1.0.2-py3-none-any.whl (134 kB)\n",
      "\u001b[?25l\r",
      "\u001b[K     |██▍                             | 10 kB 15.7 MB/s eta 0:00:01\r",
      "\u001b[K     |████▉                           | 20 kB 18.4 MB/s eta 0:00:01\r",
      "\u001b[K     |███████▎                        | 30 kB 19.8 MB/s eta 0:00:01\r",
      "\u001b[K     |█████████▊                      | 40 kB 12.7 MB/s eta 0:00:01\r",
      "\u001b[K     |████████████▏                   | 51 kB 8.8 MB/s eta 0:00:01\r",
      "\u001b[K     |██████████████▋                 | 61 kB 10.1 MB/s eta 0:00:01\r",
      "\u001b[K     |█████████████████               | 71 kB 10.2 MB/s eta 0:00:01\r",
      "\u001b[K     |███████████████████▌            | 81 kB 10.3 MB/s eta 0:00:01\r",
      "\u001b[K     |██████████████████████          | 92 kB 11.1 MB/s eta 0:00:01\r",
      "\u001b[K     |████████████████████████▍       | 102 kB 11.0 MB/s eta 0:00:01\r",
      "\u001b[K     |██████████████████████████▉     | 112 kB 11.0 MB/s eta 0:00:01\r",
      "\u001b[K     |█████████████████████████████▎  | 122 kB 11.0 MB/s eta 0:00:01\r",
      "\u001b[K     |███████████████████████████████▊| 133 kB 11.0 MB/s eta 0:00:01\r",
      "\u001b[K     |████████████████████████████████| 134 kB 11.0 MB/s \n",
      "\u001b[?25hRequirement already satisfied: matplotlib>=3.0 in /usr/local/lib/python3.7/dist-packages (from astroML) (3.2.2)\n",
      "Requirement already satisfied: scikit-learn>=0.18 in /usr/local/lib/python3.7/dist-packages (from astroML) (1.0.2)\n",
      "Requirement already satisfied: astropy>=3.0 in /usr/local/lib/python3.7/dist-packages (from astroML) (4.3.1)\n",
      "Requirement already satisfied: numpy>=1.13 in /usr/local/lib/python3.7/dist-packages (from astroML) (1.21.5)\n",
      "Requirement already satisfied: scipy>=0.18 in /usr/local/lib/python3.7/dist-packages (from astroML) (1.4.1)\n",
      "Requirement already satisfied: pyerfa>=1.7.3 in /usr/local/lib/python3.7/dist-packages (from astropy>=3.0->astroML) (2.0.0.1)\n",
      "Requirement already satisfied: importlib-metadata in /usr/local/lib/python3.7/dist-packages (from astropy>=3.0->astroML) (4.11.1)\n",
      "Requirement already satisfied: kiwisolver>=1.0.1 in /usr/local/lib/python3.7/dist-packages (from matplotlib>=3.0->astroML) (1.3.2)\n",
      "Requirement already satisfied: pyparsing!=2.0.4,!=2.1.2,!=2.1.6,>=2.0.1 in /usr/local/lib/python3.7/dist-packages (from matplotlib>=3.0->astroML) (3.0.7)\n",
      "Requirement already satisfied: cycler>=0.10 in /usr/local/lib/python3.7/dist-packages (from matplotlib>=3.0->astroML) (0.11.0)\n",
      "Requirement already satisfied: python-dateutil>=2.1 in /usr/local/lib/python3.7/dist-packages (from matplotlib>=3.0->astroML) (2.8.2)\n",
      "Requirement already satisfied: six>=1.5 in /usr/local/lib/python3.7/dist-packages (from python-dateutil>=2.1->matplotlib>=3.0->astroML) (1.15.0)\n",
      "Requirement already satisfied: threadpoolctl>=2.0.0 in /usr/local/lib/python3.7/dist-packages (from scikit-learn>=0.18->astroML) (3.1.0)\n",
      "Requirement already satisfied: joblib>=0.11 in /usr/local/lib/python3.7/dist-packages (from scikit-learn>=0.18->astroML) (1.1.0)\n",
      "Requirement already satisfied: typing-extensions>=3.6.4 in /usr/local/lib/python3.7/dist-packages (from importlib-metadata->astropy>=3.0->astroML) (3.10.0.2)\n",
      "Requirement already satisfied: zipp>=0.5 in /usr/local/lib/python3.7/dist-packages (from importlib-metadata->astropy>=3.0->astroML) (3.7.0)\n",
      "Installing collected packages: astroML\n",
      "Successfully installed astroML-1.0.2\n"
     ]
    }
   ],
   "source": [
    "!pip install gatspy astroML"
   ]
  },
  {
   "cell_type": "code",
   "execution_count": 3,
   "metadata": {
    "colab": {
     "base_uri": "https://localhost:8080/",
     "height": 376
    },
    "collapsed": true,
    "id": "iPDID02a5GsL",
    "outputId": "541b86ae-c8d1-436d-d2f4-e17ed6085149"
   },
   "outputs": [],
   "source": [
    "import pandas as pd\n",
    "import numpy as np\n",
    "import matplotlib.pyplot as plt\n",
    "import seaborn\n",
    "from astropy.timeseries import LombScargle\n",
    "%matplotlib inline"
   ]
  },
  {
   "cell_type": "code",
   "execution_count": 225,
   "metadata": {
    "collapsed": true,
    "id": "lYmUkpcG5ZRV"
   },
   "outputs": [],
   "source": [
    "data = pd.read_csv('PS-28_2_2022.csv')"
   ]
  },
  {
   "cell_type": "code",
   "execution_count": 226,
   "metadata": {},
   "outputs": [
    {
     "data": {
      "text/plain": [
       "Index(['objID', 'detectID', 'filterID', 'randomDetID', 'obsTime', 'ra', 'dec',\n",
       "       'raErr', 'decErr', 'extNSigma', 'airMass', 'psfFlux', 'psfFluxErr',\n",
       "       'psfMajorFWHM', 'psfMinorFWHM', 'psfTheta', 'psfCore', 'psfQf',\n",
       "       'psfQfPerfect', 'psfChiSq', 'psfLikelihood', 'apFlux', 'apFluxErr',\n",
       "       'apFillF', 'apRadius', 'kronFlux', 'kronFluxErr', 'kronRad', 'sky',\n",
       "       'skyErr', 'infoFlag', 'infoFlag2', 'infoFlag3'],\n",
       "      dtype='object')"
      ]
     },
     "execution_count": 226,
     "metadata": {},
     "output_type": "execute_result"
    }
   ],
   "source": [
    "data.columns"
   ]
  },
  {
   "cell_type": "code",
   "execution_count": 227,
   "metadata": {
    "colab": {
     "base_uri": "https://localhost:8080/",
     "height": 267
    },
    "id": "o9VwOvUc5qKs",
    "outputId": "c55218c2-66a7-48f5-b2c0-135162bfb357"
   },
   "outputs": [
    {
     "data": {
      "text/html": [
       "<div>\n",
       "<style scoped>\n",
       "    .dataframe tbody tr th:only-of-type {\n",
       "        vertical-align: middle;\n",
       "    }\n",
       "\n",
       "    .dataframe tbody tr th {\n",
       "        vertical-align: top;\n",
       "    }\n",
       "\n",
       "    .dataframe thead th {\n",
       "        text-align: right;\n",
       "    }\n",
       "</style>\n",
       "<table border=\"1\" class=\"dataframe\">\n",
       "  <thead>\n",
       "    <tr style=\"text-align: right;\">\n",
       "      <th></th>\n",
       "      <th>objID</th>\n",
       "      <th>detectID</th>\n",
       "      <th>filterID</th>\n",
       "      <th>randomDetID</th>\n",
       "      <th>obsTime</th>\n",
       "      <th>ra</th>\n",
       "      <th>dec</th>\n",
       "      <th>raErr</th>\n",
       "      <th>decErr</th>\n",
       "      <th>extNSigma</th>\n",
       "      <th>...</th>\n",
       "      <th>kronFlux</th>\n",
       "      <th>kronFluxErr</th>\n",
       "      <th>kronRad</th>\n",
       "      <th>sky</th>\n",
       "      <th>skyErr</th>\n",
       "      <th>infoFlag</th>\n",
       "      <th>infoFlag2</th>\n",
       "      <th>infoFlag3</th>\n",
       "      <th>Magnitude</th>\n",
       "      <th>MagnitudeErr</th>\n",
       "    </tr>\n",
       "  </thead>\n",
       "  <tbody>\n",
       "    <tr>\n",
       "      <th>0</th>\n",
       "      <td>108202999999801438</td>\n",
       "      <td>268761539740000714</td>\n",
       "      <td>4</td>\n",
       "      <td>0.471080</td>\n",
       "      <td>56788.615576</td>\n",
       "      <td>299.999971</td>\n",
       "      <td>0.167427</td>\n",
       "      <td>0.003585</td>\n",
       "      <td>0.003807</td>\n",
       "      <td>-0.393724</td>\n",
       "      <td>...</td>\n",
       "      <td>0.000781</td>\n",
       "      <td>0.000007</td>\n",
       "      <td>2.22581</td>\n",
       "      <td>0.000081</td>\n",
       "      <td>0.000006</td>\n",
       "      <td>102760517</td>\n",
       "      <td>160</td>\n",
       "      <td>34880</td>\n",
       "      <td>7.645906</td>\n",
       "      <td>0.038022</td>\n",
       "    </tr>\n",
       "    <tr>\n",
       "      <th>1</th>\n",
       "      <td>108202999999801438</td>\n",
       "      <td>271060459570000631</td>\n",
       "      <td>4</td>\n",
       "      <td>0.965678</td>\n",
       "      <td>56811.604774</td>\n",
       "      <td>299.999973</td>\n",
       "      <td>0.167429</td>\n",
       "      <td>0.003069</td>\n",
       "      <td>0.002506</td>\n",
       "      <td>0.210182</td>\n",
       "      <td>...</td>\n",
       "      <td>0.000807</td>\n",
       "      <td>0.000006</td>\n",
       "      <td>1.82308</td>\n",
       "      <td>0.000048</td>\n",
       "      <td>0.000005</td>\n",
       "      <td>102760517</td>\n",
       "      <td>128</td>\n",
       "      <td>7374912</td>\n",
       "      <td>7.632583</td>\n",
       "      <td>0.038186</td>\n",
       "    </tr>\n",
       "    <tr>\n",
       "      <th>2</th>\n",
       "      <td>108202999999801438</td>\n",
       "      <td>271060568570000616</td>\n",
       "      <td>4</td>\n",
       "      <td>0.194035</td>\n",
       "      <td>56811.605867</td>\n",
       "      <td>299.999975</td>\n",
       "      <td>0.167430</td>\n",
       "      <td>0.002758</td>\n",
       "      <td>0.002439</td>\n",
       "      <td>0.574385</td>\n",
       "      <td>...</td>\n",
       "      <td>0.000822</td>\n",
       "      <td>0.000006</td>\n",
       "      <td>1.87543</td>\n",
       "      <td>0.000049</td>\n",
       "      <td>0.000005</td>\n",
       "      <td>102760517</td>\n",
       "      <td>128</td>\n",
       "      <td>7374912</td>\n",
       "      <td>7.632279</td>\n",
       "      <td>0.038203</td>\n",
       "    </tr>\n",
       "    <tr>\n",
       "      <th>3</th>\n",
       "      <td>108202999999801438</td>\n",
       "      <td>271060922570000557</td>\n",
       "      <td>4</td>\n",
       "      <td>0.101007</td>\n",
       "      <td>56811.609408</td>\n",
       "      <td>299.999968</td>\n",
       "      <td>0.167427</td>\n",
       "      <td>0.003095</td>\n",
       "      <td>0.002568</td>\n",
       "      <td>0.013384</td>\n",
       "      <td>...</td>\n",
       "      <td>0.000833</td>\n",
       "      <td>0.000006</td>\n",
       "      <td>1.91660</td>\n",
       "      <td>0.000050</td>\n",
       "      <td>0.000005</td>\n",
       "      <td>102760517</td>\n",
       "      <td>128</td>\n",
       "      <td>7374912</td>\n",
       "      <td>7.613362</td>\n",
       "      <td>0.038165</td>\n",
       "    </tr>\n",
       "    <tr>\n",
       "      <th>4</th>\n",
       "      <td>108202999999801438</td>\n",
       "      <td>268561914740000636</td>\n",
       "      <td>5</td>\n",
       "      <td>0.135741</td>\n",
       "      <td>56786.619326</td>\n",
       "      <td>299.999971</td>\n",
       "      <td>0.167424</td>\n",
       "      <td>0.004899</td>\n",
       "      <td>0.005591</td>\n",
       "      <td>0.632019</td>\n",
       "      <td>...</td>\n",
       "      <td>0.000950</td>\n",
       "      <td>0.000019</td>\n",
       "      <td>2.27212</td>\n",
       "      <td>0.000276</td>\n",
       "      <td>0.000018</td>\n",
       "      <td>102760517</td>\n",
       "      <td>128</td>\n",
       "      <td>7342144</td>\n",
       "      <td>7.539821</td>\n",
       "      <td>0.036971</td>\n",
       "    </tr>\n",
       "    <tr>\n",
       "      <th>...</th>\n",
       "      <td>...</td>\n",
       "      <td>...</td>\n",
       "      <td>...</td>\n",
       "      <td>...</td>\n",
       "      <td>...</td>\n",
       "      <td>...</td>\n",
       "      <td>...</td>\n",
       "      <td>...</td>\n",
       "      <td>...</td>\n",
       "      <td>...</td>\n",
       "      <td>...</td>\n",
       "      <td>...</td>\n",
       "      <td>...</td>\n",
       "      <td>...</td>\n",
       "      <td>...</td>\n",
       "      <td>...</td>\n",
       "      <td>...</td>\n",
       "      <td>...</td>\n",
       "      <td>...</td>\n",
       "      <td>...</td>\n",
       "      <td>...</td>\n",
       "    </tr>\n",
       "    <tr>\n",
       "      <th>90</th>\n",
       "      <td>108202999999801438</td>\n",
       "      <td>130639100360000654</td>\n",
       "      <td>3</td>\n",
       "      <td>0.432998</td>\n",
       "      <td>55407.391268</td>\n",
       "      <td>299.999970</td>\n",
       "      <td>0.167423</td>\n",
       "      <td>0.002475</td>\n",
       "      <td>0.002102</td>\n",
       "      <td>0.261319</td>\n",
       "      <td>...</td>\n",
       "      <td>0.000760</td>\n",
       "      <td>0.000004</td>\n",
       "      <td>2.44523</td>\n",
       "      <td>0.000049</td>\n",
       "      <td>0.000003</td>\n",
       "      <td>102760517</td>\n",
       "      <td>128</td>\n",
       "      <td>7374912</td>\n",
       "      <td>7.744000</td>\n",
       "      <td>0.038899</td>\n",
       "    </tr>\n",
       "    <tr>\n",
       "      <th>91</th>\n",
       "      <td>108202999999801438</td>\n",
       "      <td>129349746150000617</td>\n",
       "      <td>1</td>\n",
       "      <td>0.024886</td>\n",
       "      <td>55394.497719</td>\n",
       "      <td>299.999974</td>\n",
       "      <td>0.167423</td>\n",
       "      <td>0.008260</td>\n",
       "      <td>0.007852</td>\n",
       "      <td>0.477761</td>\n",
       "      <td>...</td>\n",
       "      <td>0.000291</td>\n",
       "      <td>0.000003</td>\n",
       "      <td>3.13418</td>\n",
       "      <td>0.000007</td>\n",
       "      <td>0.000002</td>\n",
       "      <td>102760517</td>\n",
       "      <td>128</td>\n",
       "      <td>40896576</td>\n",
       "      <td>8.756345</td>\n",
       "      <td>0.039378</td>\n",
       "    </tr>\n",
       "    <tr>\n",
       "      <th>92</th>\n",
       "      <td>108202999999801438</td>\n",
       "      <td>131340663260000620</td>\n",
       "      <td>1</td>\n",
       "      <td>0.685602</td>\n",
       "      <td>55414.406881</td>\n",
       "      <td>299.999968</td>\n",
       "      <td>0.167425</td>\n",
       "      <td>0.004579</td>\n",
       "      <td>0.004490</td>\n",
       "      <td>0.701080</td>\n",
       "      <td>...</td>\n",
       "      <td>0.000307</td>\n",
       "      <td>0.000003</td>\n",
       "      <td>2.51399</td>\n",
       "      <td>0.000007</td>\n",
       "      <td>0.000002</td>\n",
       "      <td>102760517</td>\n",
       "      <td>128</td>\n",
       "      <td>7374912</td>\n",
       "      <td>8.717196</td>\n",
       "      <td>0.039439</td>\n",
       "    </tr>\n",
       "    <tr>\n",
       "      <th>93</th>\n",
       "      <td>108202999999801438</td>\n",
       "      <td>131341799260000629</td>\n",
       "      <td>1</td>\n",
       "      <td>0.906194</td>\n",
       "      <td>55414.418253</td>\n",
       "      <td>299.999974</td>\n",
       "      <td>0.167422</td>\n",
       "      <td>0.004237</td>\n",
       "      <td>0.004092</td>\n",
       "      <td>0.095854</td>\n",
       "      <td>...</td>\n",
       "      <td>0.000304</td>\n",
       "      <td>0.000003</td>\n",
       "      <td>2.63182</td>\n",
       "      <td>0.000007</td>\n",
       "      <td>0.000002</td>\n",
       "      <td>102760517</td>\n",
       "      <td>128</td>\n",
       "      <td>7374912</td>\n",
       "      <td>8.740564</td>\n",
       "      <td>0.039491</td>\n",
       "    </tr>\n",
       "    <tr>\n",
       "      <th>94</th>\n",
       "      <td>108202999999801438</td>\n",
       "      <td>130640319360000670</td>\n",
       "      <td>3</td>\n",
       "      <td>0.840832</td>\n",
       "      <td>55407.403464</td>\n",
       "      <td>299.999972</td>\n",
       "      <td>0.167427</td>\n",
       "      <td>0.002506</td>\n",
       "      <td>0.002151</td>\n",
       "      <td>0.009126</td>\n",
       "      <td>...</td>\n",
       "      <td>0.000778</td>\n",
       "      <td>0.000004</td>\n",
       "      <td>2.66455</td>\n",
       "      <td>0.000047</td>\n",
       "      <td>0.000003</td>\n",
       "      <td>102760517</td>\n",
       "      <td>128</td>\n",
       "      <td>7374912</td>\n",
       "      <td>7.731195</td>\n",
       "      <td>0.038880</td>\n",
       "    </tr>\n",
       "  </tbody>\n",
       "</table>\n",
       "<p>95 rows × 35 columns</p>\n",
       "</div>"
      ],
      "text/plain": [
       "                 objID            detectID  filterID  randomDetID  \\\n",
       "0   108202999999801438  268761539740000714         4     0.471080   \n",
       "1   108202999999801438  271060459570000631         4     0.965678   \n",
       "2   108202999999801438  271060568570000616         4     0.194035   \n",
       "3   108202999999801438  271060922570000557         4     0.101007   \n",
       "4   108202999999801438  268561914740000636         5     0.135741   \n",
       "..                 ...                 ...       ...          ...   \n",
       "90  108202999999801438  130639100360000654         3     0.432998   \n",
       "91  108202999999801438  129349746150000617         1     0.024886   \n",
       "92  108202999999801438  131340663260000620         1     0.685602   \n",
       "93  108202999999801438  131341799260000629         1     0.906194   \n",
       "94  108202999999801438  130640319360000670         3     0.840832   \n",
       "\n",
       "         obsTime          ra       dec     raErr    decErr  extNSigma  ...  \\\n",
       "0   56788.615576  299.999971  0.167427  0.003585  0.003807  -0.393724  ...   \n",
       "1   56811.604774  299.999973  0.167429  0.003069  0.002506   0.210182  ...   \n",
       "2   56811.605867  299.999975  0.167430  0.002758  0.002439   0.574385  ...   \n",
       "3   56811.609408  299.999968  0.167427  0.003095  0.002568   0.013384  ...   \n",
       "4   56786.619326  299.999971  0.167424  0.004899  0.005591   0.632019  ...   \n",
       "..           ...         ...       ...       ...       ...        ...  ...   \n",
       "90  55407.391268  299.999970  0.167423  0.002475  0.002102   0.261319  ...   \n",
       "91  55394.497719  299.999974  0.167423  0.008260  0.007852   0.477761  ...   \n",
       "92  55414.406881  299.999968  0.167425  0.004579  0.004490   0.701080  ...   \n",
       "93  55414.418253  299.999974  0.167422  0.004237  0.004092   0.095854  ...   \n",
       "94  55407.403464  299.999972  0.167427  0.002506  0.002151   0.009126  ...   \n",
       "\n",
       "    kronFlux  kronFluxErr  kronRad       sky    skyErr   infoFlag  infoFlag2  \\\n",
       "0   0.000781     0.000007  2.22581  0.000081  0.000006  102760517        160   \n",
       "1   0.000807     0.000006  1.82308  0.000048  0.000005  102760517        128   \n",
       "2   0.000822     0.000006  1.87543  0.000049  0.000005  102760517        128   \n",
       "3   0.000833     0.000006  1.91660  0.000050  0.000005  102760517        128   \n",
       "4   0.000950     0.000019  2.27212  0.000276  0.000018  102760517        128   \n",
       "..       ...          ...      ...       ...       ...        ...        ...   \n",
       "90  0.000760     0.000004  2.44523  0.000049  0.000003  102760517        128   \n",
       "91  0.000291     0.000003  3.13418  0.000007  0.000002  102760517        128   \n",
       "92  0.000307     0.000003  2.51399  0.000007  0.000002  102760517        128   \n",
       "93  0.000304     0.000003  2.63182  0.000007  0.000002  102760517        128   \n",
       "94  0.000778     0.000004  2.66455  0.000047  0.000003  102760517        128   \n",
       "\n",
       "    infoFlag3  Magnitude  MagnitudeErr  \n",
       "0       34880   7.645906      0.038022  \n",
       "1     7374912   7.632583      0.038186  \n",
       "2     7374912   7.632279      0.038203  \n",
       "3     7374912   7.613362      0.038165  \n",
       "4     7342144   7.539821      0.036971  \n",
       "..        ...        ...           ...  \n",
       "90    7374912   7.744000      0.038899  \n",
       "91   40896576   8.756345      0.039378  \n",
       "92    7374912   8.717196      0.039439  \n",
       "93    7374912   8.740564      0.039491  \n",
       "94    7374912   7.731195      0.038880  \n",
       "\n",
       "[95 rows x 35 columns]"
      ]
     },
     "execution_count": 227,
     "metadata": {},
     "output_type": "execute_result"
    }
   ],
   "source": [
    "data['Magnitude']    = -2.5*np.log10(data['psfFlux'])\n",
    "data['MagnitudeErr'] = np.sqrt(-2.5*np.log10(data['psfFluxErr']))/(len(data['Magnitude']))\n",
    "data"
   ]
  },
  {
   "cell_type": "code",
   "execution_count": 228,
   "metadata": {
    "collapsed": true
   },
   "outputs": [],
   "source": [
    "from collections import Counter"
   ]
  },
  {
   "cell_type": "code",
   "execution_count": 229,
   "metadata": {},
   "outputs": [
    {
     "data": {
      "text/plain": [
       "Counter({4: 23, 5: 19, 3: 24, 2: 16, 1: 13})"
      ]
     },
     "execution_count": 229,
     "metadata": {},
     "output_type": "execute_result"
    }
   ],
   "source": [
    "Counter(data['filterID'])"
   ]
  },
  {
   "cell_type": "code",
   "execution_count": 230,
   "metadata": {
    "collapsed": true
   },
   "outputs": [],
   "source": [
    "filt=data['filterID']==3"
   ]
  },
  {
   "cell_type": "code",
   "execution_count": 231,
   "metadata": {
    "colab": {
     "base_uri": "https://localhost:8080/",
     "height": 279
    },
    "id": "IsYELiT75rVn",
    "outputId": "591164b8-6738-42b1-aec0-4c19d0272866"
   },
   "outputs": [
    {
     "data": {
      "image/png": "[encoded data removed]",
      "text/plain": [
       "<Figure size 432x288 with 1 Axes>"
      ]
     },
     "metadata": {
      "needs_background": "light"
     },
     "output_type": "display_data"
    }
   ],
   "source": [
    "fig, ax = plt.subplots()\n",
    "for i in range(5):\n",
    "    filt=data['filterID']==i+1\n",
    "    plt.scatter((data['obsTime'] - 55197)[filt], data['Magnitude'][filt],s=10)\n",
    "ax.set(xlabel='Time (days)', ylabel='magitude')\n",
    "ax.invert_yaxis();\n",
    "    "
   ]
  },
  {
   "cell_type": "code",
   "execution_count": 232,
   "metadata": {},
   "outputs": [
    {
     "data": {
      "image/png": "[encoded data removed]",
      "text/plain": [
       "<Figure size 432x288 with 1 Axes>"
      ]
     },
     "metadata": {
      "needs_background": "light"
     },
     "output_type": "display_data"
    }
   ],
   "source": [
    "filt=data['filterID']==4\n",
    "fig, ax = plt.subplots()\n",
    "ax.errorbar((data['obsTime'] - 55197)[filt], data['Magnitude'][filt], data['MagnitudeErr'][filt], fmt='.k', ecolor='gray')\n",
    "ax.set(xlabel='Time (days)', ylabel='magitude')\n",
    "ax.invert_yaxis();"
   ]
  },
  {
   "cell_type": "code",
   "execution_count": 233,
   "metadata": {
    "collapsed": true
   },
   "outputs": [],
   "source": [
    "t=(data['obsTime'] - 55197)[filt]\n",
    "y=data['Magnitude'][filt]\n",
    "dy=data['MagnitudeErr'][filt]"
   ]
  },
  {
   "cell_type": "code",
   "execution_count": 234,
   "metadata": {
    "collapsed": true
   },
   "outputs": [],
   "source": [
    "frequency, power = LombScargle(t, y, dy).autopower()"
   ]
  },
  {
   "cell_type": "code",
   "execution_count": 235,
   "metadata": {},
   "outputs": [
    {
     "data": {
      "text/plain": [
       "[<matplotlib.lines.Line2D at 0x140a54c40>]"
      ]
     },
     "execution_count": 235,
     "metadata": {},
     "output_type": "execute_result"
    },
    {
     "data": {
      "image/png": "[encoded data removed]",
      "text/plain": [
       "<Figure size 432x288 with 1 Axes>"
      ]
     },
     "metadata": {
      "needs_background": "light"
     },
     "output_type": "display_data"
    }
   ],
   "source": [
    "plt.plot(frequency,power)"
   ]
  },
  {
   "cell_type": "code",
   "execution_count": 236,
   "metadata": {},
   "outputs": [
    {
     "data": {
      "text/plain": [
       "66.8174154269662"
      ]
     },
     "execution_count": 236,
     "metadata": {},
     "output_type": "execute_result"
    }
   ],
   "source": [
    "period=1/frequency[np.argmax(power)]\n",
    "period"
   ]
  },
  {
   "cell_type": "code",
   "execution_count": 237,
   "metadata": {},
   "outputs": [
    {
     "name": "stdout",
     "output_type": "stream",
     "text": [
      "[ 66.81741543 123.03620634 121.36224435 183.92010226 775.66303996\n",
      " 187.79210441 713.60999676  31.68783289  82.21313327  67.32169781]\n"
     ]
    }
   ],
   "source": [
    "print(1/frequency[np.argsort(power)[::-1]][:10])"
   ]
  },
  {
   "cell_type": "code",
   "execution_count": 244,
   "metadata": {
    "collapsed": true
   },
   "outputs": [],
   "source": [
    "best_frequency = frequency[np.argmax(power)]\n",
    "t_fit = np.linspace(0, 1)\n",
    "ls = LombScargle(t, y, dy)\n",
    "y_fit = ls.model(t_fit, 1/66)"
   ]
  },
  {
   "cell_type": "code",
   "execution_count": 245,
   "metadata": {},
   "outputs": [
    {
     "data": {
      "text/plain": [
       "[<matplotlib.lines.Line2D at 0x140811670>]"
      ]
     },
     "execution_count": 245,
     "metadata": {},
     "output_type": "execute_result"
    },
    {
     "data": {
      "image/png": "[encoded data removed]",
      "text/plain": [
       "<Figure size 432x288 with 1 Axes>"
      ]
     },
     "metadata": {
      "needs_background": "light"
     },
     "output_type": "display_data"
    }
   ],
   "source": [
    "plt.plot(t_fit,y_fit)"
   ]
  },
  {
   "cell_type": "code",
   "execution_count": null,
   "metadata": {
    "collapsed": true
   },
   "outputs": [],
   "source": []
  },
  {
   "cell_type": "code",
   "execution_count": null,
   "metadata": {
    "collapsed": true
   },
   "outputs": [],
   "source": []
  },
  {
   "cell_type": "code",
   "execution_count": null,
   "metadata": {
    "collapsed": true
   },
   "outputs": [],
   "source": []
  },
  {
   "cell_type": "code",
   "execution_count": null,
   "metadata": {
    "collapsed": true
   },
   "outputs": [],
   "source": []
  },
  {
   "cell_type": "code",
   "execution_count": null,
   "metadata": {
    "collapsed": true
   },
   "outputs": [],
   "source": []
  },
  {
   "cell_type": "code",
   "execution_count": 7,
   "metadata": {
    "collapsed": true
   },
   "outputs": [],
   "source": [
    "t=data['obsTime'] - 55197\n",
    "y=data['Magnitude']\n",
    "dy=data['MagnitudeErr']"
   ]
  },
  {
   "cell_type": "code",
   "execution_count": 14,
   "metadata": {
    "collapsed": true
   },
   "outputs": [],
   "source": [
    "tn=t[np.argsort(t)]\n",
    "yn=y[np.argsort(t)]\n",
    "dyn=dy[np.argsort(t)]"
   ]
  },
  {
   "cell_type": "code",
   "execution_count": 15,
   "metadata": {},
   "outputs": [
    {
     "data": {
      "text/plain": [
       "[<matplotlib.lines.Line2D at 0x13c1b50d0>]"
      ]
     },
     "execution_count": 15,
     "metadata": {},
     "output_type": "execute_result"
    },
    {
     "data": {
      "image/png": "[encoded data removed]",
      "text/plain": [
       "<Figure size 432x288 with 1 Axes>"
      ]
     },
     "metadata": {
      "needs_background": "light"
     },
     "output_type": "display_data"
    }
   ],
   "source": [
    "plt.plot(tn,yn)"
   ]
  },
  {
   "cell_type": "code",
   "execution_count": 16,
   "metadata": {},
   "outputs": [
    {
     "data": {
      "text/plain": [
       "<matplotlib.collections.PathCollection at 0x13c21a340>"
      ]
     },
     "execution_count": 16,
     "metadata": {},
     "output_type": "execute_result"
    },
    {
     "data": {
      "image/png": "[encoded data removed]",
      "text/plain": [
       "<Figure size 432x288 with 1 Axes>"
      ]
     },
     "metadata": {
      "needs_background": "light"
     },
     "output_type": "display_data"
    }
   ],
   "source": [
    "plt.scatter(tn,yn)"
   ]
  },
  {
   "cell_type": "code",
   "execution_count": 17,
   "metadata": {
    "collapsed": true
   },
   "outputs": [],
   "source": [
    "frequency, power = LombScargle(tn, yn, dyn).autopower()"
   ]
  },
  {
   "cell_type": "code",
   "execution_count": 18,
   "metadata": {},
   "outputs": [
    {
     "data": {
      "text/plain": [
       "[<matplotlib.lines.Line2D at 0x13c328cd0>]"
      ]
     },
     "execution_count": 18,
     "metadata": {},
     "output_type": "execute_result"
    },
    {
     "data": {
      "image/png": "[encoded data removed]",
      "text/plain": [
       "<Figure size 432x288 with 1 Axes>"
      ]
     },
     "metadata": {
      "needs_background": "light"
     },
     "output_type": "display_data"
    }
   ],
   "source": [
    "plt.plot(frequency,power)"
   ]
  },
  {
   "cell_type": "code",
   "execution_count": 19,
   "metadata": {
    "collapsed": true
   },
   "outputs": [],
   "source": [
    "frequency, power = LombScargle(t, y, dy).autopower()"
   ]
  },
  {
   "cell_type": "code",
   "execution_count": 20,
   "metadata": {},
   "outputs": [
    {
     "data": {
      "text/plain": [
       "[<matplotlib.lines.Line2D at 0x13c3c4bb0>]"
      ]
     },
     "execution_count": 20,
     "metadata": {},
     "output_type": "execute_result"
    },
    {
     "data": {
      "image/png": "[encoded data removed]",
      "text/plain": [
       "<Figure size 432x288 with 1 Axes>"
      ]
     },
     "metadata": {
      "needs_background": "light"
     },
     "output_type": "display_data"
    }
   ],
   "source": [
    "plt.plot(frequency,power)"
   ]
  },
  {
   "cell_type": "code",
   "execution_count": 115,
   "metadata": {},
   "outputs": [
    {
     "data": {
      "text/plain": [
       "array([19327.996159])"
      ]
     },
     "execution_count": 115,
     "metadata": {},
     "output_type": "execute_result"
    }
   ],
   "source": [
    "period=1/frequency[np.argmax(power)]\n",
    "period"
   ]
  },
  {
   "cell_type": "code",
   "execution_count": 130,
   "metadata": {},
   "outputs": [
    {
     "data": {
      "text/plain": [
       "13.915044030957548"
      ]
     },
     "execution_count": 130,
     "metadata": {},
     "output_type": "execute_result"
    }
   ],
   "source": [
    "1/frequency[np.argsort(power)[-3]]"
   ]
  },
  {
   "cell_type": "code",
   "execution_count": 122,
   "metadata": {},
   "outputs": [
    {
     "data": {
      "text/plain": [
       "51"
      ]
     },
     "execution_count": 122,
     "metadata": {},
     "output_type": "execute_result"
    }
   ],
   "source": [
    "np.argmax(power)"
   ]
  },
  {
   "cell_type": "code",
   "execution_count": 134,
   "metadata": {},
   "outputs": [
    {
     "name": "stdout",
     "output_type": "stream",
     "text": [
      "[187.65044815 191.3662986   13.91504403  13.93510898 184.0761539\n",
      " 378.98031684  23.77367301 195.23228443  40.51990809 123.10825579]\n"
     ]
    }
   ],
   "source": [
    "print(1/frequency[np.argsort(power)[::-1]][:10])"
   ]
  },
  {
   "cell_type": "code",
   "execution_count": 38,
   "metadata": {},
   "outputs": [
    {
     "data": {
      "text/plain": [
       "0.005329057350419553"
      ]
     },
     "execution_count": 38,
     "metadata": {},
     "output_type": "execute_result"
    }
   ],
   "source": [
    "best_frequency"
   ]
  },
  {
   "cell_type": "code",
   "execution_count": 39,
   "metadata": {},
   "outputs": [
    {
     "data": {
      "text/plain": [
       "14.285714285714285"
      ]
     },
     "execution_count": 39,
     "metadata": {},
     "output_type": "execute_result"
    }
   ],
   "source": [
    "1/0.07"
   ]
  },
  {
   "cell_type": "code",
   "execution_count": null,
   "metadata": {
    "collapsed": true
   },
   "outputs": [],
   "source": [
    "y_fit = ls.model(t_fit, best_frequency)"
   ]
  },
  {
   "cell_type": "code",
   "execution_count": 31,
   "metadata": {
    "collapsed": true
   },
   "outputs": [],
   "source": [
    "best_frequency = frequency[np.argmax(power)]\n",
    "t_fit = np.linspace(0, 1)\n",
    "ls = LombScargle(tn, yn, dyn)\n",
    "y_fit = ls.model(t_fit, best_frequency)"
   ]
  },
  {
   "cell_type": "code",
   "execution_count": 32,
   "metadata": {},
   "outputs": [
    {
     "data": {
      "text/plain": [
       "[<matplotlib.lines.Line2D at 0x13c616ca0>]"
      ]
     },
     "execution_count": 32,
     "metadata": {},
     "output_type": "execute_result"
    },
    {
     "data": {
      "image/png": "[encoded data removed]",
      "text/plain": [
       "<Figure size 432x288 with 1 Axes>"
      ]
     },
     "metadata": {
      "needs_background": "light"
     },
     "output_type": "display_data"
    }
   ],
   "source": [
    "plt.plot(t_fit,y_fit)"
   ]
  },
  {
   "cell_type": "code",
   "execution_count": 36,
   "metadata": {},
   "outputs": [
    {
     "data": {
      "text/plain": [
       "array([-0.0244028 ,  0.08791824,  0.27295236])"
      ]
     },
     "execution_count": 36,
     "metadata": {},
     "output_type": "execute_result"
    }
   ],
   "source": [
    "theta = ls.model_parameters(best_frequency)\n",
    "theta"
   ]
  },
  {
   "cell_type": "code",
   "execution_count": 21,
   "metadata": {
    "colab": {
     "base_uri": "https://localhost:8080/",
     "height": 283
    },
    "id": "pLOnk_CAd7DS",
    "outputId": "696b2718-a34b-472d-c47f-a6d8ba2155de"
   },
   "outputs": [
    {
     "ename": "NameError",
     "evalue": "name 'LombScargleFast' is not defined",
     "output_type": "error",
     "traceback": [
      "\u001b[0;31m---------------------------------------------------------------------------\u001b[0m",
      "\u001b[0;31mNameError\u001b[0m                                 Traceback (most recent call last)",
      "\u001b[0;32m<ipython-input-21-e3e9520aed4c>\u001b[0m in \u001b[0;36m<module>\u001b[0;34m\u001b[0m\n\u001b[0;32m----> 1\u001b[0;31m \u001b[0mmodel\u001b[0m \u001b[0;34m=\u001b[0m \u001b[0mLombScargleFast\u001b[0m\u001b[0;34m(\u001b[0m\u001b[0;34m)\u001b[0m\u001b[0;34m.\u001b[0m\u001b[0mfit\u001b[0m\u001b[0;34m(\u001b[0m\u001b[0mdata\u001b[0m\u001b[0;34m[\u001b[0m\u001b[0;34m'obsTime'\u001b[0m\u001b[0;34m]\u001b[0m \u001b[0;34m-\u001b[0m \u001b[0;36m55197\u001b[0m\u001b[0;34m,\u001b[0m \u001b[0mdata\u001b[0m\u001b[0;34m[\u001b[0m\u001b[0;34m'Magnitude'\u001b[0m\u001b[0;34m]\u001b[0m\u001b[0;34m,\u001b[0m \u001b[0mdata\u001b[0m\u001b[0;34m[\u001b[0m\u001b[0;34m'MagnitudeErr'\u001b[0m\u001b[0;34m]\u001b[0m\u001b[0;34m)\u001b[0m\u001b[0;34m\u001b[0m\u001b[0;34m\u001b[0m\u001b[0m\n\u001b[0m\u001b[1;32m      2\u001b[0m \u001b[0mperiods\u001b[0m\u001b[0;34m,\u001b[0m \u001b[0mpower\u001b[0m \u001b[0;34m=\u001b[0m \u001b[0mmodel\u001b[0m\u001b[0;34m.\u001b[0m\u001b[0mperiodogram_auto\u001b[0m\u001b[0;34m(\u001b[0m\u001b[0mnyquist_factor\u001b[0m\u001b[0;34m=\u001b[0m\u001b[0;36m100\u001b[0m\u001b[0;34m)\u001b[0m\u001b[0;34m\u001b[0m\u001b[0;34m\u001b[0m\u001b[0m\n\u001b[1;32m      3\u001b[0m \u001b[0;34m\u001b[0m\u001b[0m\n\u001b[1;32m      4\u001b[0m \u001b[0mfig\u001b[0m\u001b[0;34m,\u001b[0m \u001b[0max\u001b[0m \u001b[0;34m=\u001b[0m \u001b[0mplt\u001b[0m\u001b[0;34m.\u001b[0m\u001b[0msubplots\u001b[0m\u001b[0;34m(\u001b[0m\u001b[0;34m)\u001b[0m\u001b[0;34m\u001b[0m\u001b[0;34m\u001b[0m\u001b[0m\n\u001b[1;32m      5\u001b[0m \u001b[0max\u001b[0m\u001b[0;34m.\u001b[0m\u001b[0mplot\u001b[0m\u001b[0;34m(\u001b[0m\u001b[0mperiods\u001b[0m\u001b[0;34m,\u001b[0m \u001b[0mpower\u001b[0m\u001b[0;34m)\u001b[0m\u001b[0;34m\u001b[0m\u001b[0;34m\u001b[0m\u001b[0m\n",
      "\u001b[0;31mNameError\u001b[0m: name 'LombScargleFast' is not defined"
     ]
    }
   ],
   "source": [
    "model = LombScargleFast().fit(data['obsTime'] - 55197, data['Magnitude'], data['MagnitudeErr'])\n",
    "periods, power = model.periodogram_auto(nyquist_factor=100)\n",
    "\n",
    "fig, ax = plt.subplots()\n",
    "ax.plot(periods, power)\n",
    "ax.set(xlim=(0.2, 1.4), ylim=(0, 0.8),\n",
    "       xlabel='period (days)',\n",
    "       ylabel='Lomb-Scargle Power');"
   ]
  },
  {
   "cell_type": "code",
   "execution_count": null,
   "metadata": {
    "colab": {
     "base_uri": "https://localhost:8080/"
    },
    "id": "ZtH2a8-leFcd",
    "outputId": "bfbfdc12-117e-4b7a-b557-bf4990aa3e94"
   },
   "outputs": [
    {
     "name": "stdout",
     "output_type": "stream",
     "text": [
      "Finding optimal frequency:\n",
      " - Estimated peak width = 0.00325\n",
      " - Using 5 steps per peak; omega_step = 0.00065\n",
      " - User-specified period range:  0.4 to 1.4\n",
      " - Computing periods at 17259 steps\n",
      "Zooming-in on 5 candidate peaks:\n",
      " - Computing periods at 1000 steps\n",
      "period = 0.42945995302138795\n"
     ]
    }
   ],
   "source": [
    "# set range and find period\n",
    "model.optimizer.period_range=(0.4, 1.4)\n",
    "period = model.best_period\n",
    "print(\"period = {0}\".format(period))"
   ]
  },
  {
   "cell_type": "code",
   "execution_count": 137,
   "metadata": {
    "collapsed": true
   },
   "outputs": [],
   "source": [
    "period=13"
   ]
  },
  {
   "cell_type": "code",
   "execution_count": 138,
   "metadata": {
    "colab": {
     "base_uri": "https://localhost:8080/",
     "height": 279
    },
    "id": "rJYlZdzqeLyT",
    "outputId": "d5d1d188-9021-49a3-bc6d-416c7a901e33"
   },
   "outputs": [
    {
     "data": {
      "image/png": "[encoded data removed]",
      "text/plain": [
       "<Figure size 432x288 with 1 Axes>"
      ]
     },
     "metadata": {
      "needs_background": "light"
     },
     "output_type": "display_data"
    }
   ],
   "source": [
    "phase = ( (data['obsTime'] - 55197) / period) % 1\n",
    "\n",
    "fig, ax = plt.subplots()\n",
    "ax.errorbar(phase, data['Magnitude'], data['MagnitudeErr'], fmt='.k', ecolor='gray', alpha=0.5)\n",
    "ax.set(xlabel='Phase', ylabel='magitude')\n",
    "ax.invert_yaxis();"
   ]
  },
  {
   "cell_type": "code",
   "execution_count": 140,
   "metadata": {
    "collapsed": true
   },
   "outputs": [],
   "source": [
    "curve=\"test_variables/EPOCH_PHOTOMETRY-Gaia DR2 6083498811731561600.xml\""
   ]
  },
  {
   "cell_type": "code",
   "execution_count": 147,
   "metadata": {
    "collapsed": true
   },
   "outputs": [],
   "source": [
    "from astropy.io.votable import parse_single_table\n",
    "votable = parse_single_table(curve)"
   ]
  },
  {
   "cell_type": "code",
   "execution_count": 197,
   "metadata": {
    "id": "pGNeskm1f9Tr"
   },
   "outputs": [
    {
     "data": {
      "text/plain": [
       "dict_keys(['source_id', 'transit_id', 'band', 'time', 'mag', 'flux', 'flux_error', 'flux_over_error', 'rejected_by_photometry', 'rejected_by_variability', 'other_flags', 'solution_id'])"
      ]
     },
     "execution_count": 197,
     "metadata": {},
     "output_type": "execute_result"
    }
   ],
   "source": [
    "votable.array.dtype.fields.keys()"
   ]
  },
  {
   "cell_type": "code",
   "execution_count": 155,
   "metadata": {
    "scrolled": true
   },
   "outputs": [
    {
     "data": {
      "text/plain": [
       "masked_array(data=[1700.7074473128841, 1700.781449252896,\n",
       "                   1732.0706331101378, 1732.1446364450815,\n",
       "                   1827.7641089388862, 1827.940272589934,\n",
       "                   1850.5112319004388, 1880.000224521616,\n",
       "                   2002.171497081564, 2002.245527394922,\n",
       "                   2058.1544319351406, 2058.2284050478,\n",
       "                   2203.0603787654527, 2229.728448405832,\n",
       "                   2229.8024616096327, 2255.975724217955,\n",
       "                   2256.0497427170867, 1700.781764297969,\n",
       "                   1732.0709475785352, 1732.1449509335393,\n",
       "                   1827.7644170290725, 1827.9405869375264,\n",
       "                   1850.5115461694886, 1880.0005393698364,\n",
       "                   2002.1718398223852, 2002.2458421199574,\n",
       "                   2058.1547463603106, 2058.2287478951052,\n",
       "                   2229.7287627380365, 2229.802776234889,\n",
       "                   2255.976045920211, 2256.050057312728,\n",
       "                   1700.7818494883593, 1732.0710359769473,\n",
       "                   1732.1450392181664, 1827.7645020768155,\n",
       "                   1827.9406760177374, 1850.5116355467962,\n",
       "                   1880.0006260427608, 2002.1719274404845,\n",
       "                   2002.2459291588075, 2058.154834705782,\n",
       "                   2058.2288351692023, 2229.728851730048,\n",
       "                   2229.8028642967843, 2255.9761315136825,\n",
       "                   2256.0501454980376],\n",
       "             mask=[False, False, False, False, False, False, False, False,\n",
       "                   False, False, False, False, False, False, False, False,\n",
       "                   False, False, False, False, False, False, False, False,\n",
       "                   False, False, False, False, False, False, False, False,\n",
       "                   False, False, False, False, False, False, False, False,\n",
       "                   False, False, False, False, False, False, False],\n",
       "       fill_value=1e+20)"
      ]
     },
     "execution_count": 155,
     "metadata": {},
     "output_type": "execute_result"
    }
   ],
   "source": [
    "votable.array['time']"
   ]
  },
  {
   "cell_type": "code",
   "execution_count": 201,
   "metadata": {
    "collapsed": true
   },
   "outputs": [],
   "source": [
    "df=pd.DataFrame(votable.array.tolist(),columns=votable.array.dtype.fields.keys())"
   ]
  },
  {
   "cell_type": "code",
   "execution_count": 216,
   "metadata": {},
   "outputs": [
    {
     "data": {
      "text/html": [
       "<div>\n",
       "<style scoped>\n",
       "    .dataframe tbody tr th:only-of-type {\n",
       "        vertical-align: middle;\n",
       "    }\n",
       "\n",
       "    .dataframe tbody tr th {\n",
       "        vertical-align: top;\n",
       "    }\n",
       "\n",
       "    .dataframe thead th {\n",
       "        text-align: right;\n",
       "    }\n",
       "</style>\n",
       "<table border=\"1\" class=\"dataframe\">\n",
       "  <thead>\n",
       "    <tr style=\"text-align: right;\">\n",
       "      <th></th>\n",
       "      <th>source_id</th>\n",
       "      <th>transit_id</th>\n",
       "      <th>band</th>\n",
       "      <th>time</th>\n",
       "      <th>mag</th>\n",
       "      <th>flux</th>\n",
       "      <th>flux_error</th>\n",
       "      <th>flux_over_error</th>\n",
       "      <th>rejected_by_photometry</th>\n",
       "      <th>rejected_by_variability</th>\n",
       "      <th>other_flags</th>\n",
       "      <th>solution_id</th>\n",
       "    </tr>\n",
       "  </thead>\n",
       "  <tbody>\n",
       "    <tr>\n",
       "      <th>0</th>\n",
       "      <td>6083498811731561600</td>\n",
       "      <td>16802556169303951</td>\n",
       "      <td>G</td>\n",
       "      <td>1700.707447</td>\n",
       "      <td>14.295354</td>\n",
       "      <td>36074.860682</td>\n",
       "      <td>41.553146</td>\n",
       "      <td>868.161987</td>\n",
       "      <td>False</td>\n",
       "      <td>False</td>\n",
       "      <td>1</td>\n",
       "      <td>369295551293819386</td>\n",
       "    </tr>\n",
       "    <tr>\n",
       "      <th>1</th>\n",
       "      <td>6083498811731561600</td>\n",
       "      <td>16806648478733389</td>\n",
       "      <td>G</td>\n",
       "      <td>1700.781449</td>\n",
       "      <td>14.402168</td>\n",
       "      <td>32694.826504</td>\n",
       "      <td>32.723799</td>\n",
       "      <td>999.114624</td>\n",
       "      <td>False</td>\n",
       "      <td>False</td>\n",
       "      <td>1</td>\n",
       "      <td>369295551293819386</td>\n",
       "    </tr>\n",
       "    <tr>\n",
       "      <th>2</th>\n",
       "      <td>6083498811731561600</td>\n",
       "      <td>18536920400810310</td>\n",
       "      <td>G</td>\n",
       "      <td>1732.070633</td>\n",
       "      <td>14.684681</td>\n",
       "      <td>25204.250476</td>\n",
       "      <td>29.781096</td>\n",
       "      <td>846.317078</td>\n",
       "      <td>False</td>\n",
       "      <td>False</td>\n",
       "      <td>1</td>\n",
       "      <td>369295551293819386</td>\n",
       "    </tr>\n",
       "    <tr>\n",
       "      <th>3</th>\n",
       "      <td>6083498811731561600</td>\n",
       "      <td>18541012673680133</td>\n",
       "      <td>G</td>\n",
       "      <td>1732.144636</td>\n",
       "      <td>14.340110</td>\n",
       "      <td>34618.025113</td>\n",
       "      <td>58.838785</td>\n",
       "      <td>588.353821</td>\n",
       "      <td>False</td>\n",
       "      <td>False</td>\n",
       "      <td>4097</td>\n",
       "      <td>369295551293819386</td>\n",
       "    </tr>\n",
       "    <tr>\n",
       "      <th>4</th>\n",
       "      <td>6083498811731561600</td>\n",
       "      <td>23828291733722639</td>\n",
       "      <td>G</td>\n",
       "      <td>1827.764109</td>\n",
       "      <td>14.704565</td>\n",
       "      <td>24746.882129</td>\n",
       "      <td>35.388637</td>\n",
       "      <td>699.288940</td>\n",
       "      <td>False</td>\n",
       "      <td>False</td>\n",
       "      <td>131073</td>\n",
       "      <td>369295551293819386</td>\n",
       "    </tr>\n",
       "  </tbody>\n",
       "</table>\n",
       "</div>"
      ],
      "text/plain": [
       "             source_id         transit_id band         time        mag  \\\n",
       "0  6083498811731561600  16802556169303951    G  1700.707447  14.295354   \n",
       "1  6083498811731561600  16806648478733389    G  1700.781449  14.402168   \n",
       "2  6083498811731561600  18536920400810310    G  1732.070633  14.684681   \n",
       "3  6083498811731561600  18541012673680133    G  1732.144636  14.340110   \n",
       "4  6083498811731561600  23828291733722639    G  1827.764109  14.704565   \n",
       "\n",
       "           flux  flux_error  flux_over_error  rejected_by_photometry  \\\n",
       "0  36074.860682   41.553146       868.161987                   False   \n",
       "1  32694.826504   32.723799       999.114624                   False   \n",
       "2  25204.250476   29.781096       846.317078                   False   \n",
       "3  34618.025113   58.838785       588.353821                   False   \n",
       "4  24746.882129   35.388637       699.288940                   False   \n",
       "\n",
       "   rejected_by_variability  other_flags         solution_id  \n",
       "0                    False            1  369295551293819386  \n",
       "1                    False            1  369295551293819386  \n",
       "2                    False            1  369295551293819386  \n",
       "3                    False         4097  369295551293819386  \n",
       "4                    False       131073  369295551293819386  "
      ]
     },
     "execution_count": 216,
     "metadata": {},
     "output_type": "execute_result"
    }
   ],
   "source": [
    "df.head()"
   ]
  },
  {
   "cell_type": "code",
   "execution_count": 204,
   "metadata": {
    "collapsed": true
   },
   "outputs": [],
   "source": [
    "filt=df.band=='G'"
   ]
  },
  {
   "cell_type": "code",
   "execution_count": 206,
   "metadata": {},
   "outputs": [
    {
     "data": {
      "text/plain": [
       "<matplotlib.collections.PathCollection at 0x141edf5e0>"
      ]
     },
     "execution_count": 206,
     "metadata": {},
     "output_type": "execute_result"
    },
    {
     "data": {
      "image/png": "[encoded data removed]",
      "text/plain": [
       "<Figure size 432x288 with 1 Axes>"
      ]
     },
     "metadata": {
      "needs_background": "light"
     },
     "output_type": "display_data"
    }
   ],
   "source": [
    "plt.scatter(df.time[filt],df.flux[filt])"
   ]
  },
  {
   "cell_type": "code",
   "execution_count": 207,
   "metadata": {},
   "outputs": [
    {
     "data": {
      "text/plain": [
       "<matplotlib.collections.PathCollection at 0x141f214c0>"
      ]
     },
     "execution_count": 207,
     "metadata": {},
     "output_type": "execute_result"
    },
    {
     "data": {
      "image/png": "[encoded data removed]",
      "text/plain": [
       "<Figure size 432x288 with 1 Axes>"
      ]
     },
     "metadata": {
      "needs_background": "light"
     },
     "output_type": "display_data"
    }
   ],
   "source": [
    "plt.scatter(df.time,df.flux)"
   ]
  },
  {
   "cell_type": "code",
   "execution_count": 218,
   "metadata": {
    "collapsed": true
   },
   "outputs": [],
   "source": [
    "t=df.time[filt]\n",
    "y=df.mag[filt]\n",
    "#dy=df.flux_error[filt]"
   ]
  },
  {
   "cell_type": "code",
   "execution_count": 219,
   "metadata": {
    "collapsed": true
   },
   "outputs": [],
   "source": [
    "ls = LombScargle(t, y)"
   ]
  },
  {
   "cell_type": "code",
   "execution_count": 220,
   "metadata": {
    "collapsed": true
   },
   "outputs": [],
   "source": [
    "frequency, power = ls.autopower()"
   ]
  },
  {
   "cell_type": "code",
   "execution_count": 221,
   "metadata": {},
   "outputs": [
    {
     "data": {
      "text/plain": [
       "[<matplotlib.lines.Line2D at 0x13dfd5f40>]"
      ]
     },
     "execution_count": 221,
     "metadata": {},
     "output_type": "execute_result"
    },
    {
     "data": {
      "image/png": "[encoded data removed]",
      "text/plain": [
       "<Figure size 432x288 with 1 Axes>"
      ]
     },
     "metadata": {
      "needs_background": "light"
     },
     "output_type": "display_data"
    }
   ],
   "source": [
    "plt.plot(frequency,power)"
   ]
  },
  {
   "cell_type": "code",
   "execution_count": 222,
   "metadata": {
    "collapsed": true
   },
   "outputs": [],
   "source": [
    "best_frequency = frequency[np.argmax(power)]\n",
    "t_fit = np.linspace(0, 1)\n",
    "y_fit = ls.model(t_fit, best_frequency)"
   ]
  },
  {
   "cell_type": "code",
   "execution_count": 224,
   "metadata": {},
   "outputs": [
    {
     "data": {
      "image/png": "[encoded data removed]",
      "text/plain": [
       "<Figure size 432x288 with 1 Axes>"
      ]
     },
     "metadata": {
      "needs_background": "light"
     },
     "output_type": "display_data"
    }
   ],
   "source": [
    "phase = ( t / period) % 1\n",
    "\n",
    "fig, ax = plt.subplots()\n",
    "ax.scatter(phase,y)\n",
    "#ax.errorbar(phase, y, dy, fmt='.k', ecolor='gray', alpha=0.5)\n",
    "ax.set(xlabel='Phase', ylabel='magitude')\n",
    "ax.invert_yaxis();"
   ]
  },
  {
   "cell_type": "code",
   "execution_count": null,
   "metadata": {
    "collapsed": true
   },
   "outputs": [],
   "source": []
  }
 ],
 "metadata": {
  "colab": {
   "name": "Copia de Panstarss-example.ipynb",
   "provenance": []
  },
  "kernelspec": {
   "display_name": "pmenv",
   "language": "python",
   "name": "pmenv"
  },
  "language_info": {
   "codemirror_mode": {
    "name": "ipython",
    "version": 3
   },
   "file_extension": ".py",
   "mimetype": "text/x-python",
   "name": "python",
   "nbconvert_exporter": "python",
   "pygments_lexer": "ipython3",
   "version": "3.8.11"
  }
 },
 "nbformat": 4,
 "nbformat_minor": 1
}
