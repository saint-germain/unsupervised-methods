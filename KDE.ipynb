{
 "cells": [
  {
   "cell_type": "code",
   "execution_count": 2,
   "id": "50191d64-99c5-4ba8-b3fb-4fb166443aff",
   "metadata": {},
   "outputs": [
    {
     "name": "stdout",
     "output_type": "stream",
     "text": [
      "--2022-02-21 14:57:51--  https://github.com/fjbautistas/kde_example/raw/master/data/exoplanet.eu_catalog_21.csv\n",
      "Resolving github.com (github.com)... 140.82.112.3\n",
      "Connecting to github.com (github.com)|140.82.112.3|:443... connected.\n",
      "HTTP request sent, awaiting response... 302 Found\n",
      "Location: https://raw.githubusercontent.com/fjbautistas/kde_example/master/data/exoplanet.eu_catalog_21.csv [following]\n",
      "--2022-02-21 14:57:52--  https://raw.githubusercontent.com/fjbautistas/kde_example/master/data/exoplanet.eu_catalog_21.csv\n",
      "Resolving raw.githubusercontent.com (raw.githubusercontent.com)... 185.199.111.133, 185.199.110.133, 185.199.109.133, ...\n",
      "Connecting to raw.githubusercontent.com (raw.githubusercontent.com)|185.199.111.133|:443... connected.\n",
      "HTTP request sent, awaiting response... 200 OK\n",
      "Length: 2244760 (2.1M) [text/plain]\n",
      "Saving to: ‘exoplanet.eu_catalog_21.csv’\n",
      "\n",
      "exoplanet.eu_catalo 100%[===================>]   2.14M  --.-KB/s    in 0.1s    \n",
      "\n",
      "2022-02-21 14:57:52 (16.7 MB/s) - ‘exoplanet.eu_catalog_21.csv’ saved [2244760/2244760]\n",
      "\n"
     ]
    }
   ],
   "source": [
    "!wget https://github.com/fjbautistas/kde_example/raw/master/data/exoplanet.eu_catalog_21.csv"
   ]
  },
  {
   "cell_type": "code",
   "execution_count": 15,
   "id": "7ce2c37c-ef87-4517-be33-f3d08f727ece",
   "metadata": {},
   "outputs": [
    {
     "ename": "ModuleNotFoundError",
     "evalue": "No module named 'seaborn'",
     "output_type": "error",
     "traceback": [
      "\u001b[0;31m---------------------------------------------------------------------------\u001b[0m",
      "\u001b[0;31mModuleNotFoundError\u001b[0m                       Traceback (most recent call last)",
      "\u001b[0;32m/tmp/ipykernel_158/1654069430.py\u001b[0m in \u001b[0;36m<module>\u001b[0;34m\u001b[0m\n\u001b[1;32m      2\u001b[0m \u001b[0;32mimport\u001b[0m \u001b[0mnumpy\u001b[0m \u001b[0;32mas\u001b[0m \u001b[0mnp\u001b[0m\u001b[0;34m\u001b[0m\u001b[0;34m\u001b[0m\u001b[0m\n\u001b[1;32m      3\u001b[0m \u001b[0;32mimport\u001b[0m \u001b[0mmatplotlib\u001b[0m\u001b[0;34m.\u001b[0m\u001b[0mpyplot\u001b[0m \u001b[0;32mas\u001b[0m \u001b[0mplt\u001b[0m\u001b[0;34m\u001b[0m\u001b[0;34m\u001b[0m\u001b[0m\n\u001b[0;32m----> 4\u001b[0;31m \u001b[0;32mimport\u001b[0m \u001b[0mseaborn\u001b[0m \u001b[0;32mas\u001b[0m \u001b[0msns\u001b[0m\u001b[0;34m\u001b[0m\u001b[0;34m\u001b[0m\u001b[0m\n\u001b[0m\u001b[1;32m      5\u001b[0m \u001b[0mget_ipython\u001b[0m\u001b[0;34m(\u001b[0m\u001b[0;34m)\u001b[0m\u001b[0;34m.\u001b[0m\u001b[0mrun_line_magic\u001b[0m\u001b[0;34m(\u001b[0m\u001b[0;34m'matplotlib'\u001b[0m\u001b[0;34m,\u001b[0m \u001b[0;34m'inline'\u001b[0m\u001b[0;34m)\u001b[0m\u001b[0;34m\u001b[0m\u001b[0;34m\u001b[0m\u001b[0m\n",
      "\u001b[0;31mModuleNotFoundError\u001b[0m: No module named 'seaborn'"
     ]
    }
   ],
   "source": [
    "import pandas as pd\n",
    "import numpy as np\n",
    "import matplotlib.pyplot as plt\n",
    "import seaborn as sns\n",
    "%matplotlib inline"
   ]
  },
  {
   "cell_type": "code",
   "execution_count": 5,
   "id": "b5ea184f-2d56-410c-be81-de769968e949",
   "metadata": {},
   "outputs": [],
   "source": [
    "data_o = pd.read_csv('exoplanet.eu_catalog_21.csv', \n",
    "                       usecols = ['mass','semi_major_axis',\n",
    "                                  'star_metallicity'])"
   ]
  },
  {
   "cell_type": "code",
   "execution_count": 8,
   "id": "da7fe87e-1b86-4daa-bed3-5cfbf0a51373",
   "metadata": {},
   "outputs": [],
   "source": [
    "data_o = data_o.replace([np.inf, -np.inf], np.nan) \n",
    "data_o = data_o.replace([0], np.nan)\n",
    "data_o = data_o.dropna()"
   ]
  },
  {
   "cell_type": "code",
   "execution_count": 14,
   "id": "4a0d386a-30ae-4ccd-ab8d-efe86e514698",
   "metadata": {},
   "outputs": [
    {
     "data": {
      "text/plain": [
       "<matplotlib.collections.PathCollection at 0x7f6a583f6cd0>"
      ]
     },
     "execution_count": 14,
     "metadata": {},
     "output_type": "execute_result"
    },
    {
     "data": {
      "image/png": "[encoded data removed]",
      "text/plain": [
       "<Figure size 432x288 with 1 Axes>"
      ]
     },
     "metadata": {
      "needs_background": "light"
     },
     "output_type": "display_data"
    }
   ],
   "source": [
    "plt.scatter(np.log10(data_o.mass),np.log10(data_o.semi_major_axis))"
   ]
  },
  {
   "cell_type": "code",
   "execution_count": null,
   "id": "259028c9-2e30-4dd9-8d6a-0ed1495d4dd3",
   "metadata": {},
   "outputs": [],
   "source": []
  }
 ],
 "metadata": {
  "kernelspec": {
   "display_name": "Python 3 (ipykernel)",
   "language": "python",
   "name": "python3"
  },
  "language_info": {
   "codemirror_mode": {
    "name": "ipython",
    "version": 3
   },
   "file_extension": ".py",
   "mimetype": "text/x-python",
   "name": "python",
   "nbconvert_exporter": "python",
   "pygments_lexer": "ipython3",
   "version": "3.7.12"
  }
 },
 "nbformat": 4,
 "nbformat_minor": 5
}
